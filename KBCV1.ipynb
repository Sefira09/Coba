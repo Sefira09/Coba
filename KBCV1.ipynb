{
  "nbformat": 4,
  "nbformat_minor": 0,
  "metadata": {
    "colab": {
      "name": "KBCV1.ipynb",
      "provenance": [],
      "collapsed_sections": [],
      "authorship_tag": "ABX9TyMnBjMPGZCf7c7rg7GC3P1o",
      "include_colab_link": true
    },
    "kernelspec": {
      "name": "python3",
      "display_name": "Python 3"
    },
    "language_info": {
      "name": "python"
    }
  },
  "cells": [
    {
      "cell_type": "markdown",
      "metadata": {
        "id": "view-in-github",
        "colab_type": "text"
      },
      "source": [
        "<a href=\"https://colab.research.google.com/github/Sefira09/Coba/blob/main/KBCV1.ipynb\" target=\"_parent\"><img src=\"https://colab.research.google.com/assets/colab-badge.svg\" alt=\"Open In Colab\"/></a>"
      ]
    },
    {
      "cell_type": "code",
      "execution_count": null,
      "metadata": {
        "colab": {
          "base_uri": "https://localhost:8080/"
        },
        "id": "IaTRKYavpuNR",
        "outputId": "8d1c11d5-853a-4cda-82a2-058f82f6183f"
      },
      "outputs": [
        {
          "output_type": "stream",
          "name": "stdout",
          "text": [
            "Hello world\n"
          ]
        }
      ],
      "source": [
        "print(\"Hello world\")"
      ]
    },
    {
      "cell_type": "code",
      "source": [
        "#tipe data Boolean\n",
        "print(True)\n",
        "\n",
        "#tipe data String\n",
        "print(\"Ayo belajar Python\")\n",
        "print('Belajar Python Sangat Mudah')\n",
        "\n",
        "#tipe data Integer\n",
        "print(20)\n",
        "\n",
        "#tipe data Float\n",
        "print(3.14)\n",
        "\n",
        "#tipe data Complex\n",
        "print(5j)\n",
        "\n",
        "#tipe data List\n",
        "print([1,2,3,4,5])\n",
        "print([\"satu\", \"dua\", \"tiga\"])\n",
        "\n",
        "#tipe data Tuple\n",
        "print((1,2,3,4,5))\n",
        "print((\"satu\", \"dua\", \"tiga\"))\n",
        "\n",
        "#tipe data Dictionary\n",
        "print({\"nama\":\"Budi\", 'umur':20})\n",
        "#tipe data Dictionary dimasukan ke dalam variabel biodata\n",
        "biodata = {\"nama\":\"Andi\", 'umur':21} #proses inisialisasi variabel biodata\n",
        "print(biodata) #proses pencetakan variabel biodata yang berisi tipe data Dictionary\n",
        "print(type(biodata)) #fungsi untuk mengecek jenis tipe data. akan tampil <class 'dict'> yang berarti dict adalah tipe data dictionary"
      ],
      "metadata": {
        "colab": {
          "base_uri": "https://localhost:8080/"
        },
        "id": "I3eWFSX2qz27",
        "outputId": "81686117-97d7-4d0b-ae30-bcce7406e6cc"
      },
      "execution_count": null,
      "outputs": [
        {
          "output_type": "stream",
          "name": "stdout",
          "text": [
            "True\n",
            "Ayo belajar Python\n",
            "Belajar Python Sangat Mudah\n",
            "20\n",
            "3.14\n",
            "5j\n",
            "[1, 2, 3, 4, 5]\n",
            "['satu', 'dua', 'tiga']\n",
            "(1, 2, 3, 4, 5)\n",
            "('satu', 'dua', 'tiga')\n",
            "{'nama': 'Budi', 'umur': 20}\n",
            "{'nama': 'Andi', 'umur': 21}\n",
            "<class 'dict'>\n"
          ]
        }
      ]
    },
    {
      "cell_type": "code",
      "source": [
        ""
      ],
      "metadata": {
        "id": "Ja2zn_3Qred9"
      },
      "execution_count": null,
      "outputs": []
    },
    {
      "cell_type": "code",
      "source": [
        "#Kondisi if adalah kondisi yang akan dieksekusi oleh program jika bernilai benar atau TRUE\n",
        "\n",
        "nilai = 15\n",
        "\n",
        "#jika kondisi benar/TRUE maka program akan mengeksekusi perintah dibawahnya\n",
        "if(nilai > 9):\n",
        "    print(\"Lima Belas Lebih Besar Dari Angka Sembilan\") # Kondisi Benar, Dieksekusi\n",
        "\n",
        "#jika kondisi salah/FALSE maka program tidak akan mengeksekusi perintah dibawahnya\n",
        "if(nilai > 15):\n",
        "    print(\"Lima Belas Lebih Besar Dari Angka Lima Belas\") # Kondisi Salah, Maka tidak tereksekusi"
      ],
      "metadata": {
        "colab": {
          "base_uri": "https://localhost:8080/"
        },
        "id": "wqqm4GfhszmL",
        "outputId": "a1b0a8ae-2c8c-4352-e673-f977d56cd3a1"
      },
      "execution_count": null,
      "outputs": [
        {
          "output_type": "stream",
          "name": "stdout",
          "text": [
            "Lima Belas Lebih Besar Dari Angka Sembilan\n"
          ]
        }
      ]
    },
    {
      "cell_type": "code",
      "source": [
        "#Contoh penggunaan kondisi elif\n",
        "\n",
        "hari_ini = \"Senin\"\n",
        "\n",
        "if(hari_ini == \"Senin\"):\n",
        "    print(\"Saya akan kuliah\")\n",
        "elif(hari_ini == \"Selasa\"):\n",
        "    print(\"Saya akan kuliah\")\n",
        "elif(hari_ini == \"Rabu\"):\n",
        "    print(\"Saya akan kuliah\")\n",
        "elif(hari_ini == \"Kamis\"):\n",
        "    print(\"Saya akan kuliah\")\n",
        "elif(hari_ini == \"Jumat\"):\n",
        "    print(\"Saya akan kuliah\")\n",
        "elif(hari_ini == \"Sabtu\"):\n",
        "    print(\"Saya akan kuliah\")\n",
        "elif(hari_ini == \"Minggu\"):\n",
        "    print(\"Saya akan libur\")"
      ],
      "metadata": {
        "colab": {
          "base_uri": "https://localhost:8080/"
        },
        "id": "HCs_9J-UuUFE",
        "outputId": "0fedbd78-2a2f-4ee5-b919-ac3e4976b545"
      },
      "execution_count": null,
      "outputs": [
        {
          "output_type": "stream",
          "name": "stdout",
          "text": [
            "Saya akan kuliah\n"
          ]
        }
      ]
    },
    {
      "cell_type": "code",
      "source": [
        "#Kondisi if else adalah jika kondisi bernilai TRUE maka akan dieksekusi pada if, tetapi jika bernilai FALSE maka akan dieksekusi kode pada else\n",
        "\n",
        "nilai = 10\n",
        "#Jika pernyataan pada if bernilai TRUE maka if akan dieksekusi, tetapi jika FALSE kode pada else yang akan dieksekusi.\n",
        "if(nilai > 7):\n",
        "    print(\"Selamat Anda Lulus\")\n",
        "else:\n",
        "    print(\"Maaf Anda Tidak Lulus\")"
      ],
      "metadata": {
        "colab": {
          "base_uri": "https://localhost:8080/"
        },
        "id": "BwiIQdoatDWn",
        "outputId": "266920a0-7cc1-43d3-b9db-f56475fad4b7"
      },
      "execution_count": null,
      "outputs": [
        {
          "output_type": "stream",
          "name": "stdout",
          "text": [
            "Selamat Anda Lulus\n"
          ]
        }
      ]
    },
    {
      "cell_type": "code",
      "source": [
        "# mendefinisikan fungsi menggunakan 'def'\n",
        "def ini_fungsi(siapaNamanya):\n",
        "  print(siapaNamanya + \" belajar Bahasa Ular\")\n",
        "\n",
        "\n",
        "# memanggil fungsi\n",
        "ini_fungsi('Harry Potter')\n",
        "\n",
        "# memanggil kembali fungsi dengan nilai parameter berbeda\n",
        "ini_fungsi('Voldemort')\n",
        "\n",
        "# lagi\n",
        "ini_fungsi('Semua orang')"
      ],
      "metadata": {
        "colab": {
          "base_uri": "https://localhost:8080/"
        },
        "id": "npgUEOYWyYjq",
        "outputId": "31509b66-4b3f-46a8-dd9d-c3dd2c2c4f18"
      },
      "execution_count": 12,
      "outputs": [
        {
          "output_type": "stream",
          "name": "stdout",
          "text": [
            "Harry Potter belajar Bahasa Ular\n",
            "Voldemort belajar Bahasa Ular\n",
            "Semua orang belajar Bahasa Ular\n"
          ]
        }
      ]
    },
    {
      "cell_type": "code",
      "source": [
        "# memanggil modul 'datetime' untuk menampilkan waktu\n",
        "# fungsi datetime dinamakan sebagai 'dt' untuk menyingkat pemanggilan\n",
        "import datetime as dt\n",
        "\n",
        "# memanggil fungsi datetime.now pada modul datetime\n",
        "x = dt.datetime.now()\n",
        "print(x)\n",
        "\n",
        "\n",
        "# memanggil hanya fungsi tertentu pada satu modul\n",
        "from datetime import date\n",
        "\n",
        "hariIni = date.today()\n",
        "\n",
        "print(\"Hari ini tanggal: \", hariIni)"
      ],
      "metadata": {
        "colab": {
          "base_uri": "https://localhost:8080/"
        },
        "id": "UEMFdmLfygf-",
        "outputId": "cbd2cbb7-3ccf-4a4e-cde2-d9d457a19030"
      },
      "execution_count": 13,
      "outputs": [
        {
          "output_type": "stream",
          "name": "stdout",
          "text": [
            "2022-03-11 02:24:00.823842\n",
            "Hari ini tanggal:  2022-03-11\n"
          ]
        }
      ]
    },
    {
      "cell_type": "code",
      "source": [
        "# memanggil modul numpy\n",
        "\n",
        "import numpy as np\n",
        "a  = np.array([1,2,3])\n",
        "\n",
        "# mencetak dimensi dan tipe data matriks a\n",
        "print(a.shape)\n",
        "print(a.dtype)"
      ],
      "metadata": {
        "colab": {
          "base_uri": "https://localhost:8080/"
        },
        "id": "SBhA65HBymhO",
        "outputId": "691152f0-65ad-4e70-ac1a-1cbc5d28ce2c"
      },
      "execution_count": 14,
      "outputs": [
        {
          "output_type": "stream",
          "name": "stdout",
          "text": [
            "(3,)\n",
            "int64\n"
          ]
        }
      ]
    }
  ]
}